{
 "cells": [
  {
   "cell_type": "markdown",
   "metadata": {},
   "source": [
    "# Developing an AI application\n",
    "\n",
    "Going forward, AI algorithms will be incorporated into more and more everyday applications. For example, you might want to include an image classifier in a smart phone app. To do this, you'd use a deep learning model trained on hundreds of thousands of images as part of the overall application architecture. A large part of software development in the future will be using these types of models as common parts of applications. \n",
    "\n",
    "In this project, you'll train an image classifier to recognize different species of flowers. You can imagine using something like this in a phone app that tells you the name of the flower your camera is looking at. In practice you'd train this classifier, then export it for use in your application. We'll be using [this dataset](http://www.robots.ox.ac.uk/~vgg/data/flowers/102/index.html) of 102 flower categories, you can see a few examples below. \n",
    "\n",
    "<img src='assets/Flowers.png' width=500px>\n",
    "\n",
    "The project is broken down into multiple steps:\n",
    "\n",
    "* Load and preprocess the image dataset\n",
    "* Train the image classifier on your dataset\n",
    "* Use the trained classifier to predict image content\n",
    "\n",
    "We'll lead you through each part which you'll implement in Python.\n",
    "\n",
    "When you've completed this project, you'll have an application that can be trained on any set of labeled images. Here your network will be learning about flowers and end up as a command line application. But, what you do with your new skills depends on your imagination and effort in building a dataset. For example, imagine an app where you take a picture of a car, it tells you what the make and model is, then looks up information about it. Go build your own dataset and make something new.\n",
    "\n",
    "First up is importing the packages you'll need. It's good practice to keep all the imports at the beginning of your code. As you work through this notebook and find you need to import a package, make sure to add the import up here."
   ]
  },
  {
   "cell_type": "code",
   "execution_count": null,
   "metadata": {},
   "outputs": [],
   "source": [
    "# Imports here\n",
    "%matplotlib inline\n",
    "%config InlineBackend.figure_format = 'retina'\n",
    "\n",
    "import matplotlib.pyplot as plt\n",
    "\n",
    "import numpy as np\n",
    "import torch\n",
    "from torch import nn\n",
    "from torch import optim\n",
    "from torchvision import datasets, transforms, models\n",
    "from collections import OrderedDict\n",
    "from PIL import Image\n",
    "import glob, os"
   ]
  },
  {
   "cell_type": "code",
   "execution_count": null,
   "metadata": {},
   "outputs": [],
   "source": [
    "# CONSTANTS\n",
    "ROTATION_AMOUNT = 30\n",
    "CROP_AMOUNT = 224\n",
    "RESIZE_AMOUNT = 225\n",
    "COLOR_CHANNEL_1 = 0.485, 0.456, 0.406\n",
    "COLOR_CHANNEL_2 = 0.229, 0.224, 0.225\n",
    "BATCH_SIZE = 64\n",
    "LEARNING_RATE = 0.001\n",
    "EPOCHS = 1\n",
    "STEPS = 0\n",
    "PRINT_EVERY = 5\n",
    "PIL_SIZE = 256"
   ]
  },
  {
   "cell_type": "markdown",
   "metadata": {},
   "source": [
    "## Load the data\n",
    "\n",
    "Here you'll use `torchvision` to load the data ([documentation](http://pytorch.org/docs/0.3.0/torchvision/index.html)). The data should be included alongside this notebook, otherwise you can [download it here](https://s3.amazonaws.com/content.udacity-data.com/nd089/flower_data.tar.gz). The dataset is split into three parts, training, validation, and testing. For the training, you'll want to apply transformations such as random scaling, cropping, and flipping. This will help the network generalize leading to better performance. You'll also need to make sure the input data is resized to 224x224 pixels as required by the pre-trained networks.\n",
    "\n",
    "The validation and testing sets are used to measure the model's performance on data it hasn't seen yet. For this you don't want any scaling or rotation transformations, but you'll need to resize then crop the images to the appropriate size.\n",
    "\n",
    "The pre-trained networks you'll use were trained on the ImageNet dataset where each color channel was normalized separately. For all three sets you'll need to normalize the means and standard deviations of the images to what the network expects. For the means, it's `[0.485, 0.456, 0.406]` and for the standard deviations `[0.229, 0.224, 0.225]`, calculated from the ImageNet images.  These values will shift each color channel to be centered at 0 and range from -1 to 1.\n",
    " "
   ]
  },
  {
   "cell_type": "code",
   "execution_count": null,
   "metadata": {},
   "outputs": [],
   "source": [
    "data_dir = 'assets/flower_data'\n",
    "train_dir = data_dir + '/train'\n",
    "valid_dir = data_dir + '/valid'\n",
    "test_dir = data_dir + '/test'"
   ]
  },
  {
   "cell_type": "code",
   "execution_count": null,
   "metadata": {},
   "outputs": [],
   "source": [
    "# TODO: Define your transforms for the training, validation, and testing sets\n",
    "\n",
    "train_transforms = transforms.Compose([transforms.RandomRotation(ROTATION_AMOUNT),\n",
    "                                       transforms.RandomResizedCrop(CROP_AMOUNT), # model takes 224x224 images as input, so we resize all of them\n",
    "                                       transforms.RandomHorizontalFlip(),\n",
    "                                       transforms.ToTensor(),\n",
    "                                       transforms.Normalize(COLOR_CHANNEL_1,\n",
    "                                       COLOR_CHANNEL_2)])\n",
    "\n",
    "valid_transforms = transforms.Compose([transforms.Resize(RESIZE_AMOUNT),\n",
    "                                      transforms.CenterCrop(CROP_AMOUNT),\n",
    "                                      transforms.ToTensor(),\n",
    "                                      transforms.Normalize(COLOR_CHANNEL_1,\n",
    "                                      COLOR_CHANNEL_2)])                                \n",
    "\n",
    "test_transforms = transforms.Compose([transforms.Resize(RESIZE_AMOUNT),\n",
    "                                      transforms.CenterCrop(CROP_AMOUNT),\n",
    "                                      transforms.ToTensor(),\n",
    "                                      transforms.Normalize(COLOR_CHANNEL_1,\n",
    "                                      COLOR_CHANNEL_2)])  \n",
    "\n",
    "\n",
    "\n",
    "# TODO: Load the datasets with ImageFolder\n",
    "\n",
    "# Pass transforms in here, then run the next cell to see how the transforms look\n",
    "image_train_dataset = datasets.ImageFolder(train_dir, transform=train_transforms)\n",
    "image_valid_dataset = datasets.ImageFolder(valid_dir, transform=valid_transforms)\n",
    "image_test_dataset = datasets.ImageFolder(test_dir, transform=test_transforms)\n",
    "\n",
    "# TODO: Using the image datasets and the trainforms, define the dataloaders\n",
    "\n",
    "train_dataloader = torch.utils.data.DataLoader(image_train_dataset, batch_size=BATCH_SIZE, shuffle=True)\n",
    "valid_dataloader = torch.utils.data.DataLoader(image_valid_dataset, batch_size=BATCH_SIZE)\n",
    "test_dataloader = torch.utils.data.DataLoader(image_test_dataset, batch_size=BATCH_SIZE)"
   ]
  },
  {
   "cell_type": "code",
   "execution_count": null,
   "metadata": {},
   "outputs": [],
   "source": [
    "# look at the shape and size of these images, they are (64, 3, 224, 224)\n",
    "dataiter = iter(train_dataloader)\n",
    "check_image, check_label = dataiter.next()\n",
    "print(type(check_image))\n",
    "print(check_image.shape)"
   ]
  },
  {
   "cell_type": "code",
   "execution_count": null,
   "metadata": {},
   "outputs": [],
   "source": [
    "# here is what one of those images looks like\n",
    "plt.imshow(np.transpose(check_image[1], (1, 2, 0)))"
   ]
  },
  {
   "cell_type": "markdown",
   "metadata": {},
   "source": [
    "### Label mapping\n",
    "\n",
    "You'll also need to load in a mapping from category label to category name. You can find this in the file `cat_to_name.json`. It's a JSON object which you can read in with the [`json` module](https://docs.python.org/2/library/json.html). This will give you a dictionary mapping the integer encoded categories to the actual names of the flowers."
   ]
  },
  {
   "cell_type": "code",
   "execution_count": null,
   "metadata": {},
   "outputs": [],
   "source": [
    "import json\n",
    "\n",
    "with open('cat_to_name.json', 'r') as f:\n",
    "    cat_to_name = json.load(f)\n",
    "    cat_count = len(cat_to_name.keys())\n",
    "    print(cat_count)\n",
    "    print(cat_to_name)"
   ]
  },
  {
   "cell_type": "markdown",
   "metadata": {},
   "source": [
    "# Building and training the classifier\n",
    "\n",
    "Now that the data is ready, it's time to build and train the classifier. As usual, you should use one of the pretrained models from `torchvision.models` to get the image features. Build and train a new feed-forward classifier using those features.\n",
    "\n",
    "We're going to leave this part up to you. Refer to [the rubric](https://review.udacity.com/#!/rubrics/1663/view) for guidance on successfully completing this section. Things you'll need to do:\n",
    "\n",
    "* Load a [pre-trained network](http://pytorch.org/docs/master/torchvision/models.html) (If you need a starting point, the VGG networks work great and are straightforward to use)\n",
    "* Define a new, untrained feed-forward network as a classifier, using ReLU activations and dropout\n",
    "* Train the classifier layers using backpropagation using the pre-trained network to get the features\n",
    "* Track the loss and accuracy on the validation set to determine the best hyperparameters\n",
    "\n",
    "We've left a cell open for you below, but use as many as you need. Our advice is to break the problem up into smaller parts you can run separately. Check that each part is doing what you expect, then move on to the next. You'll likely find that as you work through each part, you'll need to go back and modify your previous code. This is totally normal!\n",
    "\n",
    "When training make sure you're updating only the weights of the feed-forward network. You should be able to get the validation accuracy above 70% if you build everything right. Make sure to try different hyperparameters (learning rate, units in the classifier, epochs, etc) to find the best model. Save those hyperparameters to use as default values in the next part of the project.\n",
    "\n",
    "One last important tip if you're using the workspace to run your code: To avoid having your workspace disconnect during the long-running tasks in this notebook, please read in the earlier page in this lesson called Intro to\n",
    "GPU Workspaces about Keeping Your Session Active. You'll want to include code from the workspace_utils.py module.\n",
    "\n",
    "**Note for Workspace users:** If your network is over 1 GB when saved as a checkpoint, there might be issues with saving backups in your workspace. Typically this happens with wide dense layers after the convolutional layers. If your saved checkpoint is larger than 1 GB (you can open a terminal and check with `ls -lh`), you should reduce the size of your hidden layers and train again."
   ]
  },
  {
   "cell_type": "code",
   "execution_count": null,
   "metadata": {},
   "outputs": [],
   "source": [
    "# determine available architecture\n",
    "this_device = torch.device(\"cuda:0\" if torch.cuda.is_available() else \"cpu\")"
   ]
  },
  {
   "cell_type": "code",
   "execution_count": null,
   "metadata": {},
   "outputs": [],
   "source": [
    "# choose a model \n",
    "model = models.resnet50(pretrained=True)\n",
    "model"
   ]
  },
  {
   "cell_type": "code",
   "execution_count": null,
   "metadata": {},
   "outputs": [],
   "source": [
    "# check model object - see in and out features etc\n",
    "print(model.fc) "
   ]
  },
  {
   "cell_type": "code",
   "execution_count": null,
   "metadata": {},
   "outputs": [],
   "source": [
    "# TODO: Build and train your network\n",
    "\n",
    "# Freeze our feature paramaters - turn of gradients for our model\n",
    "for param in model.parameters():\n",
    "    param.requires_grad = False\n",
    "\n",
    "# Define our new classifier\n",
    "classifier = nn.Sequential(\n",
    "                      nn.Linear(in_features=2048, out_features=cat_count),\n",
    "                      nn.LogSoftmax(dim=1)\n",
    ")\n",
    "\n",
    "\n",
    "# replace current models classifier with this one\n",
    "model.fc = classifier\n"
   ]
  },
  {
   "cell_type": "code",
   "execution_count": null,
   "metadata": {},
   "outputs": [],
   "source": [
    "# check model object - see in and out features etc\n",
    "print(model.fc) "
   ]
  },
  {
   "cell_type": "code",
   "execution_count": null,
   "metadata": {},
   "outputs": [],
   "source": [
    "# specify loss function (categorical cross-entropy)\n",
    "criterion = nn.NLLLoss()\n",
    "\n",
    "# specify optimizer (stochastic gradient descent) and use the default learning rate (0.001)\n",
    "optimizer = optim.Adam(model.fc.parameters(), lr=LEARNING_RATE)\n",
    "\n",
    "# model to gpu if this device suports\n",
    "model.to(this_device);"
   ]
  },
  {
   "cell_type": "code",
   "execution_count": null,
   "metadata": {},
   "outputs": [],
   "source": [
    "# Train and Validate the Model\n",
    "epochs = EPOCHS\n",
    "steps = STEPS\n",
    "print_every = PRINT_EVERY\n",
    "\n",
    "running_loss = 0\n",
    "# NB// by default, the model is set to \"training\" mode\n",
    "for epoch in range(epochs):\n",
    "    for inputs, labels in train_dataloader:\n",
    "        steps += 1\n",
    "        # move the input and label tensors to this device (cpu or gpu if available)\n",
    "        inputs, labels = inputs.to(this_device), labels.to(this_device)\n",
    "        \n",
    "        # get log probabilities from our model and pass in images\n",
    "        logps = model.forward(inputs)\n",
    "\n",
    "        # calculate the batch loss\n",
    "        loss = criterion(logps, labels)\n",
    "        \n",
    "        # clear the gradients of all optimized variables\n",
    "        optimizer.zero_grad()\n",
    "\n",
    "        # do a backwards pass\n",
    "        loss.backward()\n",
    "\n",
    "        # perform a single optimization step (parameter update)\n",
    "        optimizer.step()\n",
    "\n",
    "        # keep track of training loss\n",
    "        running_loss += loss.item()\n",
    "        \n",
    "        if steps % print_every == 0:\n",
    "            # Keep track of training and validation loss\n",
    "            validation_loss = 0\n",
    "            accuracy = 0\n",
    "            model.eval()\n",
    "            with torch.no_grad():\n",
    "                for inputs, labels in valid_dataloader:\n",
    "                    inputs, labels = inputs.to(this_device), labels.to(this_device)\n",
    "                    logps = model.forward(inputs)\n",
    "                    \n",
    "                    # update loss metrics\n",
    "                    batch_loss = criterion(logps, labels)\n",
    "                    validation_loss += batch_loss.item()\n",
    "                    \n",
    "                     # calculate accuracy\n",
    "                    ps = torch.exp(logps)\n",
    "                    top_p, top_class = ps.topk(1, dim=1)\n",
    "                    equals = top_class == labels.view(*top_class.shape)\n",
    "                    accuracy += torch.mean(equals.type(torch.FloatTensor)).item()\n",
    "                    \n",
    "            print(f\"Epoch {epoch+1}/{epochs}.. \"\n",
    "                  f\"Train loss: {running_loss/print_every:.3f}.. \"\n",
    "                  f\"Validation loss: {validation_loss/len(valid_dataloader):.3f}.. \"\n",
    "                  f\"Test accuracy: {accuracy/len(valid_dataloader):.3f}\")\n",
    "            running_loss = 0\n",
    "            model.train()"
   ]
  },
  {
   "cell_type": "markdown",
   "metadata": {},
   "source": [
    "## Testing your network\n",
    "\n",
    "It's good practice to test your trained network on test data, images the network has never seen either in training or validation. This will give you a good estimate for the model's performance on completely new images. Run the test images through the network and measure the accuracy, the same way you did validation. You should be able to reach around 70% accuracy on the test set if the model has been trained well."
   ]
  },
  {
   "cell_type": "code",
   "execution_count": null,
   "metadata": {},
   "outputs": [],
   "source": [
    "#TODO: Do validation on the test set\n",
    "# eval mode\n",
    "epochs = EPOCHS\n",
    "model.eval()\n",
    "test_accuracy = 0\n",
    "test_loss = 0\n",
    "# iterate over epochs\n",
    "for epoch in range(epochs):\n",
    "    with torch.no_grad():\n",
    "\n",
    "        # iterate over test data\n",
    "        for images, labels in test_dataloader:\n",
    "\n",
    "            #send to gpu, if available\n",
    "            images, labels = images.to(this_device),labels.to(this_device)\n",
    "\n",
    "            # forward pass: compute predicted outputs by passing inputs to the model\n",
    "            output = model.forward(images)\n",
    "\n",
    "            # update test loss \n",
    "            test_loss += criterion(output,labels).item()\n",
    "            \n",
    "            # convert output probabilities to predicted class\n",
    "            predicted_class = torch.exp(output)\n",
    "\n",
    "            #match the test\n",
    "            test_match = (labels.data == predicted_class.max(dim=1)[1])\n",
    "            \n",
    "            # calculate the test accuracy\n",
    "            test_accuracy += test_match.type(torch.FloatTensor).mean()\n",
    "            \n",
    "            #print the test output\n",
    "            print(\"Epoch: {}/{}.. \".format(epoch+1, epochs),\n",
    "            \"Test loss: {:.3f}.. \".format(test_loss/len(test_dataloader)),\n",
    "            \"Test accuracy: {:.3f}\".format(test_accuracy/len(test_dataloader)))"
   ]
  },
  {
   "cell_type": "markdown",
   "metadata": {},
   "source": [
    "## Save the checkpoint\n",
    "\n",
    "Now that your network is trained, save the model so you can load it later for making predictions. You probably want to save other things such as the mapping of classes to indices which you get from one of the image datasets: `image_datasets['train'].class_to_idx`. You can attach this to the model as an attribute which makes inference easier later on.\n",
    "\n",
    "```model.class_to_idx = image_datasets['train'].class_to_idx```\n",
    "\n",
    "Remember that you'll want to completely rebuild the model later so you can use it for inference. Make sure to include any information you need in the checkpoint. If you want to load the model and keep training, you'll want to save the number of epochs as well as the optimizer state, `optimizer.state_dict`. You'll likely want to use this trained model in the next part of the project, so best to save it now."
   ]
  },
  {
   "cell_type": "code",
   "execution_count": null,
   "metadata": {},
   "outputs": [],
   "source": [
    "# the parameters for PyTorch networks are stored in a model's `state_dict`.\n",
    "print(\"Our model: \\n\\n\", model, '\\n')\n",
    "print(\"The state dict keys: \\n\\n\", model.state_dict().keys())"
   ]
  },
  {
   "cell_type": "code",
   "execution_count": null,
   "metadata": {},
   "outputs": [],
   "source": [
    "print(image_train_dataset.class_to_idx)"
   ]
  },
  {
   "cell_type": "code",
   "execution_count": null,
   "metadata": {},
   "outputs": [],
   "source": [
    "torch.save({\n",
    "            'epoch': EPOCHS,\n",
    "            'fc': model.fc,\n",
    "            'class_to_idx': image_train_dataset.class_to_idx,\n",
    "            'optimizer_state_dict': optimizer.state_dict,\n",
    "            'state_dict': model.state_dict()\n",
    "            }, 'checkpoint.pth')\n"
   ]
  },
  {
   "cell_type": "markdown",
   "metadata": {},
   "source": [
    "## Loading the checkpoint\n",
    "\n",
    "At this point it's good to write a function that can load a checkpoint and rebuild the model. That way you can come back to this project and keep working on it without having to retrain the network."
   ]
  },
  {
   "cell_type": "code",
   "execution_count": null,
   "metadata": {},
   "outputs": [],
   "source": [
    "# TODO: Write a function that loads a checkpoint and rebuilds the model\n",
    "def load_checkpoint_model(path):\n",
    "    # load the checkpoint\n",
    "    checkpoint = torch.load(path)\n",
    "\n",
    "    # load the model\n",
    "    checkpoint_model = models.resnet50(pretrained=True)\n",
    "\n",
    "    # freeze the parameters\n",
    "    for param in checkpoint_model.parameters():\n",
    "        param.requires_grad = False\n",
    "\n",
    "    # load up the optimiser\n",
    "    checkpoint_model.optimizer = checkpoint['optimizer_state_dict']\n",
    "\n",
    "    # apply custom fc back to the model\n",
    "    checkpoint_model.fc = checkpoint['fc']\n",
    "    checkpoint_model.load_state_dict(checkpoint['state_dict'])\n",
    "    checkpoint_model.class_to_idx = checkpoint['class_to_idx']\n",
    "\n",
    "    # run eval mode\n",
    "    checkpoint_model.eval()\n",
    "\n",
    "    return checkpoint_model"
   ]
  },
  {
   "cell_type": "code",
   "execution_count": null,
   "metadata": {},
   "outputs": [],
   "source": [
    "path = 'checkpoint.pth'\n",
    "checkpoint_model = load_checkpoint_model(path)"
   ]
  },
  {
   "cell_type": "code",
   "execution_count": null,
   "metadata": {},
   "outputs": [],
   "source": [
    "print(checkpoint_model.optimizer)"
   ]
  },
  {
   "cell_type": "markdown",
   "metadata": {},
   "source": [
    "# Inference for classification\n",
    "\n",
    "Now you'll write a function to use a trained network for inference. That is, you'll pass an image into the network and predict the class of the flower in the image. Write a function called `predict` that takes an image and a model, then returns the top $K$ most likely classes along with the probabilities. It should look like \n",
    "\n",
    "```python\n",
    "probs, classes = predict(image_path, model)\n",
    "print(probs)\n",
    "print(classes)\n",
    "> [ 0.01558163  0.01541934  0.01452626  0.01443549  0.01407339]\n",
    "> ['70', '3', '45', '62', '55']\n",
    "```\n",
    "\n",
    "First you'll need to handle processing the input image such that it can be used in your network. \n",
    "\n",
    "## Image Preprocessing\n",
    "\n",
    "You'll want to use `PIL` to load the image ([documentation](https://pillow.readthedocs.io/en/latest/reference/Image.html)). It's best to write a function that preprocesses the image so it can be used as input for the model. This function should process the images in the same manner used for training. \n",
    "\n",
    "First, resize the images where the shortest side is 256 pixels, keeping the aspect ratio. This can be done with the [`thumbnail`](http://pillow.readthedocs.io/en/3.1.x/reference/Image.html#PIL.Image.Image.thumbnail) or [`resize`](http://pillow.readthedocs.io/en/3.1.x/reference/Image.html#PIL.Image.Image.thumbnail) methods. Then you'll need to crop out the center 224x224 portion of the image.\n",
    "\n",
    "Color channels of images are typically encoded as integers 0-255, but the model expected floats 0-1. You'll need to convert the values. It's easiest with a Numpy array, which you can get from a PIL image like so `np_image = np.array(pil_image)`.\n",
    "\n",
    "As before, the network expects the images to be normalized in a specific way. For the means, it's `[0.485, 0.456, 0.406]` and for the standard deviations `[0.229, 0.224, 0.225]`. You'll want to subtract the means from each color channel, then divide by the standard deviation. \n",
    "\n",
    "And finally, PyTorch expects the color channel to be the first dimension but it's the third dimension in the PIL image and Numpy array. You can reorder dimensions using [`ndarray.transpose`](https://docs.scipy.org/doc/numpy-1.13.0/reference/generated/numpy.ndarray.transpose.html). The color channel needs to be first and retain the order of the other two dimensions."
   ]
  },
  {
   "cell_type": "code",
   "execution_count": null,
   "metadata": {},
   "outputs": [],
   "source": [
    "def process_image(image):\n",
    "    ''' Scales, crops, and normalizes a PIL image for a PyTorch model,\n",
    "        returns an Numpy array\n",
    "    '''\n",
    "    # TODO: Process a PIL image for use in a PyTorch model\n",
    "    # resize where the sortest is 256, maintain aspect ratio\n",
    "    size = PIL_SIZE, PIL_SIZE\n",
    "\n",
    "    # open the image\n",
    "    im  = Image.open(image)\n",
    "\n",
    "    #use PIL thumbnail func to resize\n",
    "    im.thumbnail(size)\n",
    "\n",
    "    # retrieve image width and height\n",
    "    im_width, im_height = im.size\n",
    "\n",
    "    # set crop vars to crop out the centre\n",
    "    crop_width, crop_height = CROP_AMOUNT,CROP_AMOUNT\n",
    "\n",
    "    # work out crops\n",
    "    left = (im_width - crop_width) / 2\n",
    "    top = (im_height - crop_height) / 2\n",
    "    right = (im_width + crop_width) / 2\n",
    "    bottom = (im_height + crop_height) / 2\n",
    "\n",
    "    #apply crops\n",
    "    im =im.crop((left, top, right, bottom))\n",
    "    \n",
    "    # work our numpy colour channels\n",
    "    np_image = np.array(im)\n",
    "    np_image = np_image / 255\n",
    "\n",
    "    #set up numpy colour channels as previous\n",
    "    std = np.array(COLOR_CHANNEL_1)\n",
    "    mean = np.array(COLOR_CHANNEL_2)\n",
    "\n",
    "    # apply numpy colour channel calcs\n",
    "    np_image = (np_image - mean) / std\n",
    "\n",
    "    # apply to image\n",
    "    image = np.transpose(np_image,(2,0,1))\n",
    "\n",
    "    #return\n",
    "    return torch.from_numpy(image)"
   ]
  },
  {
   "cell_type": "markdown",
   "metadata": {},
   "source": [
    "To check your work, the function below converts a PyTorch tensor and displays it in the notebook. If your `process_image` function works, running the output through this function should return the original image (except for the cropped out portions)."
   ]
  },
  {
   "cell_type": "code",
   "execution_count": null,
   "metadata": {},
   "outputs": [],
   "source": [
    "def imshow(image, ax=None, title=None):\n",
    "    \"\"\"Imshow for Tensor.\"\"\"\n",
    "    if ax is None:\n",
    "        fig, ax = plt.subplots()\n",
    "    \n",
    "    # PyTorch tensors assume the color channel is the first dimension\n",
    "    # but matplotlib assumes is the third dimension\n",
    "    image = image.numpy().transpose((1, 2, 0))\n",
    "    \n",
    "    # Undo preprocessing\n",
    "    mean = np.array([0.485, 0.456, 0.406])\n",
    "    std = np.array([0.229, 0.224, 0.225])\n",
    "    image = std * image + mean\n",
    "    \n",
    "    # Image needs to be clipped between 0 and 1 or it looks like noise when displayed\n",
    "    image = np.clip(image, 0, 1)\n",
    "    \n",
    "    ax.imshow(image)\n",
    "    \n",
    "    return ax"
   ]
  },
  {
   "cell_type": "code",
   "execution_count": null,
   "metadata": {},
   "outputs": [],
   "source": [
    "# Test the process image function\n",
    "# load up an image\n",
    "image = process_image('assets/flower_data/test/7/image_07211.jpg')\n",
    "imshow(image)"
   ]
  },
  {
   "cell_type": "markdown",
   "metadata": {},
   "source": [
    "## Class Prediction\n",
    "\n",
    "Once you can get images in the correct format, it's time to write a function for making predictions with your model. A common practice is to predict the top 5 or so (usually called top-$K$) most probable classes. You'll want to calculate the class probabilities then find the $K$ largest values.\n",
    "\n",
    "To get the top $K$ largest values in a tensor use [`x.topk(k)`](http://pytorch.org/docs/master/torch.html#torch.topk). This method returns both the highest `k` probabilities and the indices of those probabilities corresponding to the classes. You need to convert from these indices to the actual class labels using `class_to_idx` which hopefully you added to the model or from an `ImageFolder` you used to load the data ([see here](#Save-the-checkpoint)). Make sure to invert the dictionary so you get a mapping from index to class as well.\n",
    "\n",
    "Again, this method should take a path to an image and a model checkpoint, then return the probabilities and classes.\n",
    "\n",
    "```python\n",
    "probs, classes = predict(image_path, model)\n",
    "print(probs)\n",
    "print(classes)\n",
    "> [ 0.01558163  0.01541934  0.01452626  0.01443549  0.01407339]\n",
    "> ['70', '3', '45', '62', '55']\n",
    "```"
   ]
  },
  {
   "cell_type": "code",
   "execution_count": null,
   "metadata": {},
   "outputs": [],
   "source": [
    "def predict(image_path, model, topk=5):\n",
    "    ''' Predict the class (or classes) of an image using a trained deep learning model.\n",
    "    '''\n",
    "    \n",
    "    # TODO: Implement the code to predict the class from an image file\n",
    "    # run the modal in eval mode\n",
    "    model.eval()\n",
    "\n",
    "    # fix unexpected scalar type Double but found Float\n",
    "    model.double()\n",
    "\n",
    "    # model to gpu if this device suports\n",
    "    model = model.to(this_device);\n",
    "    \n",
    "    # call our process_image func above\n",
    "    image = process_image(image_path)\n",
    "    \n",
    "    # image to this device - unsqueeze the tensor\n",
    "    image = image.to(this_device).unsqueeze(0)\n",
    "\n",
    "    with torch.no_grad():\n",
    "        # extract the top-k value-indices\n",
    "        output = model.forward(image)\n",
    "        topk ,topk_labels = torch.topk(output, topk)\n",
    "        topk = topk.exp()\n",
    "\n",
    "    # pupulate idx_to_class for labels\n",
    "    idx_to_class = {model.class_to_idx[k]: k for k in model.class_to_idx}\n",
    "\n",
    "    # create an empty array to store the class labels in\n",
    "    classes = []\n",
    "\n",
    "    # loop though predictions and populate classes\n",
    "    for label in topk_labels.numpy()[0]:\n",
    "        classes.append(idx_to_class[label])\n",
    "\n",
    "    # retun topk and classes array\n",
    "    return topk.numpy()[0], classes"
   ]
  },
  {
   "cell_type": "markdown",
   "metadata": {},
   "source": [
    "## Sanity Checking\n",
    "\n",
    "Now that you can use a trained model for predictions, check to make sure it makes sense. Even if the testing accuracy is high, it's always good to check that there aren't obvious bugs. Use `matplotlib` to plot the probabilities for the top 5 classes as a bar graph, along with the input image. It should look like this:\n",
    "\n",
    "<img src='assets/inference_example.png' width=300px>\n",
    "\n",
    "You can convert from the class integer encoding to actual flower names with the `cat_to_name.json` file (should have been loaded earlier in the notebook). To show a PyTorch tensor as an image, use the `imshow` function defined above."
   ]
  },
  {
   "cell_type": "code",
   "execution_count": null,
   "metadata": {},
   "outputs": [],
   "source": [
    "# TODO: Display an image along with the top 5 classes\n",
    "\n",
    "# grab an image to test with\n",
    "test_image = 'assets/flower_data/test/92/image_03032.jpg'\n",
    "\n",
    "# call the predict function\n",
    "topk, top_classes = predict(test_image, checkpoint_model)\n",
    "\n",
    "# preprocess the image with the image preprossessing function\n",
    "processed_image = process_image(test_image)\n",
    "\n",
    "# find the maximum index\n",
    "maximum_index = top_classes[0]\n",
    "\n",
    "# set up our figure\n",
    "figure = plt.figure(figsize =[10,5])\n",
    "\n",
    "# set up axis properties\n",
    "axis = imshow(processed_image, ax = plt)\n",
    "axis.axis('off')\n",
    "axis.title(cat_to_name[str(maximum_index)])\n",
    "axis.show()\n",
    "\n",
    "# empty array to store labels in\n",
    "labels = []\n",
    "\n",
    "# loop through each class in our top classes and populate labels\n",
    "for each_class in top_classes:\n",
    "    labels.append(cat_to_name[each_class])\n",
    "\n",
    "# set up axis properties\n",
    "axis2= plt.subplot(111)\n",
    "yticks = np.arange(5)\n",
    "axis2.set_yticks(yticks)\n",
    "axis2.set_yticklabels(labels)\n",
    "axis2.barh(yticks, topk, xerr=0, align='center', color='blue')\n",
    "\n",
    "# invert the y axis\n",
    "axis2.invert_yaxis()\n",
    "\n",
    "plt.show()"
   ]
  }
 ],
 "metadata": {
  "kernelspec": {
   "display_name": "base",
   "language": "python",
   "name": "python3"
  },
  "language_info": {
   "codemirror_mode": {
    "name": "ipython",
    "version": 3
   },
   "file_extension": ".py",
   "mimetype": "text/x-python",
   "name": "python",
   "nbconvert_exporter": "python",
   "pygments_lexer": "ipython3",
   "version": "3.9.13"
  },
  "vscode": {
   "interpreter": {
    "hash": "40d3a090f54c6569ab1632332b64b2c03c39dcf918b08424e98f38b5ae0af88f"
   }
  }
 },
 "nbformat": 4,
 "nbformat_minor": 2
}
